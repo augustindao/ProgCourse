{
 "cells": [
  {
   "cell_type": "code",
   "execution_count": null,
   "metadata": {
    "collapsed": true
   },
   "outputs": [],
   "source": [
    "# Origin: Homework for Programming Week 5\n",
    "# Author: Augustin Dao\n",
    "# Date created: 16/09/2016\n",
    "# Last modified: 21/09/2016"
   ]
  },
  {
   "cell_type": "markdown",
   "metadata": {},
   "source": [
    "\n",
    "### Part 1. Built-in functions"
   ]
  },
  {
   "cell_type": "code",
   "execution_count": 23,
   "metadata": {
    "collapsed": false
   },
   "outputs": [
    {
     "data": {
      "text/html": [
       "<ol class=list-inline>\n",
       "\t<li>1</li>\n",
       "\t<li>2</li>\n",
       "\t<li>5</li>\n",
       "</ol>\n"
      ],
      "text/latex": [
       "\\begin{enumerate*}\n",
       "\\item 1\n",
       "\\item 2\n",
       "\\item 5\n",
       "\\end{enumerate*}\n"
      ],
      "text/markdown": [
       "1. 1\n",
       "2. 2\n",
       "3. 5\n",
       "\n",
       "\n"
      ],
      "text/plain": [
       "[1] 1 2 5"
      ]
     },
     "metadata": {},
     "output_type": "display_data"
    },
    {
     "data": {
      "text/html": [
       "<ol class=list-inline>\n",
       "\t<li>1</li>\n",
       "\t<li>0</li>\n",
       "\t<li>0</li>\n",
       "\t<li>0</li>\n",
       "\t<li>2</li>\n",
       "\t<li>5</li>\n",
       "</ol>\n"
      ],
      "text/latex": [
       "\\begin{enumerate*}\n",
       "\\item 1\n",
       "\\item 0\n",
       "\\item 0\n",
       "\\item 0\n",
       "\\item 2\n",
       "\\item 5\n",
       "\\end{enumerate*}\n"
      ],
      "text/markdown": [
       "1. 1\n",
       "2. 0\n",
       "3. 0\n",
       "4. 0\n",
       "5. 2\n",
       "6. 5\n",
       "\n",
       "\n"
      ],
      "text/plain": [
       "[1] 1 0 0 0 2 5"
      ]
     },
     "metadata": {},
     "output_type": "display_data"
    }
   ],
   "source": [
    "x <- c(1,2,5)\n",
    "x\n",
    "#?append\n",
    "x_2 <- append(x, c(0,0,0),after = 1) #adds elements to a vector at the specfified position\n",
    "x_2"
   ]
  },
  {
   "cell_type": "code",
   "execution_count": 25,
   "metadata": {
    "collapsed": false
   },
   "outputs": [
    {
     "data": {
      "text/html": [
       "<ol class=list-inline>\n",
       "\t<li>1</li>\n",
       "\t<li>2</li>\n",
       "\t<li>3</li>\n",
       "\t<li>4</li>\n",
       "\t<li>5</li>\n",
       "\t<li>6</li>\n",
       "\t<li>7</li>\n",
       "\t<li>8</li>\n",
       "\t<li>9</li>\n",
       "\t<li>0</li>\n",
       "\t<li>0</li>\n",
       "\t<li>0</li>\n",
       "</ol>\n"
      ],
      "text/latex": [
       "\\begin{enumerate*}\n",
       "\\item 1\n",
       "\\item 2\n",
       "\\item 3\n",
       "\\item 4\n",
       "\\item 5\n",
       "\\item 6\n",
       "\\item 7\n",
       "\\item 8\n",
       "\\item 9\n",
       "\\item 0\n",
       "\\item 0\n",
       "\\item 0\n",
       "\\end{enumerate*}\n"
      ],
      "text/markdown": [
       "1. 1\n",
       "2. 2\n",
       "3. 3\n",
       "4. 4\n",
       "5. 5\n",
       "6. 6\n",
       "7. 7\n",
       "8. 8\n",
       "9. 9\n",
       "10. 0\n",
       "11. 0\n",
       "12. 0\n",
       "\n",
       "\n"
      ],
      "text/plain": [
       " [1] 1 2 3 4 5 6 7 8 9 0 0 0"
      ]
     },
     "metadata": {},
     "output_type": "display_data"
    }
   ],
   "source": [
    "c <- c(1:9,0,0,0) #combines all arguments into a single vector\n",
    "c"
   ]
  },
  {
   "cell_type": "code",
   "execution_count": 45,
   "metadata": {
    "collapsed": false
   },
   "outputs": [
    {
     "name": "stdout",
     "output_type": "stream",
     "text": [
      "1 hello, my name is Bob   \n",
      "2 hello, my name is Greg   \n",
      "3 hello, my name is John Doe   \n"
     ]
    }
   ],
   "source": [
    "intro <- \"hello, my name is\"\n",
    "names <- c(\"Bob\",\"Greg\",\"John Doe\")\n",
    "n <- length(names)\n",
    "\n",
    "for(i in 1:n){\n",
    "   cat(i,intro, names[i],\" \", \"\\n\") #combines inputs into a single string and and prints\n",
    "}"
   ]
  },
  {
   "cell_type": "code",
   "execution_count": 66,
   "metadata": {
    "collapsed": false
   },
   "outputs": [
    {
     "data": {
      "text/html": [
       "<table>\n",
       "<tbody>\n",
       "\t<tr><td>1</td><td>4</td><td>7</td></tr>\n",
       "\t<tr><td>2</td><td>5</td><td>8</td></tr>\n",
       "\t<tr><td>3</td><td>6</td><td>9</td></tr>\n",
       "</tbody>\n",
       "</table>\n"
      ],
      "text/latex": [
       "\\begin{tabular}{lll}\n",
       "\t 1 & 4 & 7\\\\\n",
       "\t 2 & 5 & 8\\\\\n",
       "\t 3 & 6 & 9\\\\\n",
       "\\end{tabular}\n"
      ],
      "text/markdown": [
       "1. 1\n",
       "2. 2\n",
       "3. 3\n",
       "4. 4\n",
       "5. 5\n",
       "6. 6\n",
       "7. 7\n",
       "8. 8\n",
       "9. 9\n",
       "\n",
       "\n"
      ],
      "text/plain": [
       "     [,1] [,2] [,3]\n",
       "[1,]    1    4    7\n",
       "[2,]    2    5    8\n",
       "[3,]    3    6    9"
      ]
     },
     "metadata": {},
     "output_type": "display_data"
    },
    {
     "data": {
      "text/html": [
       "<table>\n",
       "<tbody>\n",
       "\t<tr><td>0</td><td>0</td><td>0</td></tr>\n",
       "\t<tr><td>0</td><td>0</td><td>0</td></tr>\n",
       "\t<tr><td>0</td><td>0</td><td>0</td></tr>\n",
       "</tbody>\n",
       "</table>\n"
      ],
      "text/latex": [
       "\\begin{tabular}{lll}\n",
       "\t 0 & 0 & 0\\\\\n",
       "\t 0 & 0 & 0\\\\\n",
       "\t 0 & 0 & 0\\\\\n",
       "\\end{tabular}\n"
      ],
      "text/markdown": [
       "1. 0\n",
       "2. 0\n",
       "3. 0\n",
       "4. 0\n",
       "5. 0\n",
       "6. 0\n",
       "7. 0\n",
       "8. 0\n",
       "9. 0\n",
       "\n",
       "\n"
      ],
      "text/plain": [
       "     [,1] [,2] [,3]\n",
       "[1,]    0    0    0\n",
       "[2,]    0    0    0\n",
       "[3,]    0    0    0"
      ]
     },
     "metadata": {},
     "output_type": "display_data"
    },
    {
     "data": {
      "text/html": [
       "<table>\n",
       "<tbody>\n",
       "\t<tr><td>1</td><td>4</td><td>7</td><td>0</td><td>0</td><td>0</td></tr>\n",
       "\t<tr><td>2</td><td>5</td><td>8</td><td>0</td><td>0</td><td>0</td></tr>\n",
       "\t<tr><td>3</td><td>6</td><td>9</td><td>0</td><td>0</td><td>0</td></tr>\n",
       "</tbody>\n",
       "</table>\n"
      ],
      "text/latex": [
       "\\begin{tabular}{llllll}\n",
       "\t 1 & 4 & 7 & 0 & 0 & 0\\\\\n",
       "\t 2 & 5 & 8 & 0 & 0 & 0\\\\\n",
       "\t 3 & 6 & 9 & 0 & 0 & 0\\\\\n",
       "\\end{tabular}\n"
      ],
      "text/markdown": [
       "1. 1\n",
       "2. 2\n",
       "3. 3\n",
       "4. 4\n",
       "5. 5\n",
       "6. 6\n",
       "7. 7\n",
       "8. 8\n",
       "9. 9\n",
       "10. 0\n",
       "11. 0\n",
       "12. 0\n",
       "13. 0\n",
       "14. 0\n",
       "15. 0\n",
       "16. 0\n",
       "17. 0\n",
       "18. 0\n",
       "\n",
       "\n"
      ],
      "text/plain": [
       "     [,1] [,2] [,3] [,4] [,5] [,6]\n",
       "[1,]    1    4    7    0    0    0\n",
       "[2,]    2    5    8    0    0    0\n",
       "[3,]    3    6    9    0    0    0"
      ]
     },
     "metadata": {},
     "output_type": "display_data"
    }
   ],
   "source": [
    "v_1 <- c(1:9)\n",
    "v_2 <- c(rep(0,9))\n",
    "matrix_1 <- matrix(v_1,3,3)\n",
    "matrix_2 <- matrix(v_2,3,3)\n",
    "matrix_1\n",
    "matrix_2\n",
    "\n",
    "cbind(matrix_1,matrix_2) #combines two matrices into a single one, binding by column"
   ]
  },
  {
   "cell_type": "code",
   "execution_count": 69,
   "metadata": {
    "collapsed": false
   },
   "outputs": [
    {
     "data": {
      "text/html": [
       "<ol class=list-inline>\n",
       "\t<li>1</li>\n",
       "\t<li>2</li>\n",
       "\t<li>3</li>\n",
       "\t<li>4</li>\n",
       "\t<li>5</li>\n",
       "\t<li>6</li>\n",
       "\t<li>7</li>\n",
       "\t<li>8</li>\n",
       "\t<li>9</li>\n",
       "\t<li>10</li>\n",
       "\t<li>11</li>\n",
       "\t<li>12</li>\n",
       "\t<li>13</li>\n",
       "\t<li>14</li>\n",
       "\t<li>15</li>\n",
       "\t<li>16</li>\n",
       "\t<li>17</li>\n",
       "\t<li>18</li>\n",
       "\t<li>19</li>\n",
       "\t<li>20</li>\n",
       "\t<li>21</li>\n",
       "\t<li>22</li>\n",
       "\t<li>23</li>\n",
       "\t<li>24</li>\n",
       "\t<li>25</li>\n",
       "\t<li>26</li>\n",
       "\t<li>27</li>\n",
       "\t<li>28</li>\n",
       "\t<li>29</li>\n",
       "\t<li>30</li>\n",
       "\t<li>31</li>\n",
       "\t<li>32</li>\n",
       "\t<li>33</li>\n",
       "\t<li>34</li>\n",
       "\t<li>35</li>\n",
       "\t<li>36</li>\n",
       "\t<li>37</li>\n",
       "\t<li>38</li>\n",
       "\t<li>39</li>\n",
       "\t<li>40</li>\n",
       "\t<li>41</li>\n",
       "\t<li>42</li>\n",
       "\t<li>43</li>\n",
       "\t<li>44</li>\n",
       "\t<li>45</li>\n",
       "\t<li>46</li>\n",
       "\t<li>47</li>\n",
       "\t<li>48</li>\n",
       "\t<li>49</li>\n",
       "\t<li>50</li>\n",
       "</ol>\n"
      ],
      "text/latex": [
       "\\begin{enumerate*}\n",
       "\\item 1\n",
       "\\item 2\n",
       "\\item 3\n",
       "\\item 4\n",
       "\\item 5\n",
       "\\item 6\n",
       "\\item 7\n",
       "\\item 8\n",
       "\\item 9\n",
       "\\item 10\n",
       "\\item 11\n",
       "\\item 12\n",
       "\\item 13\n",
       "\\item 14\n",
       "\\item 15\n",
       "\\item 16\n",
       "\\item 17\n",
       "\\item 18\n",
       "\\item 19\n",
       "\\item 20\n",
       "\\item 21\n",
       "\\item 22\n",
       "\\item 23\n",
       "\\item 24\n",
       "\\item 25\n",
       "\\item 26\n",
       "\\item 27\n",
       "\\item 28\n",
       "\\item 29\n",
       "\\item 30\n",
       "\\item 31\n",
       "\\item 32\n",
       "\\item 33\n",
       "\\item 34\n",
       "\\item 35\n",
       "\\item 36\n",
       "\\item 37\n",
       "\\item 38\n",
       "\\item 39\n",
       "\\item 40\n",
       "\\item 41\n",
       "\\item 42\n",
       "\\item 43\n",
       "\\item 44\n",
       "\\item 45\n",
       "\\item 46\n",
       "\\item 47\n",
       "\\item 48\n",
       "\\item 49\n",
       "\\item 50\n",
       "\\end{enumerate*}\n"
      ],
      "text/markdown": [
       "1. 1\n",
       "2. 2\n",
       "3. 3\n",
       "4. 4\n",
       "5. 5\n",
       "6. 6\n",
       "7. 7\n",
       "8. 8\n",
       "9. 9\n",
       "10. 10\n",
       "11. 11\n",
       "12. 12\n",
       "13. 13\n",
       "14. 14\n",
       "15. 15\n",
       "16. 16\n",
       "17. 17\n",
       "18. 18\n",
       "19. 19\n",
       "20. 20\n",
       "21. 21\n",
       "22. 22\n",
       "23. 23\n",
       "24. 24\n",
       "25. 25\n",
       "26. 26\n",
       "27. 27\n",
       "28. 28\n",
       "29. 29\n",
       "30. 30\n",
       "31. 31\n",
       "32. 32\n",
       "33. 33\n",
       "34. 34\n",
       "35. 35\n",
       "36. 36\n",
       "37. 37\n",
       "38. 38\n",
       "39. 39\n",
       "40. 40\n",
       "41. 41\n",
       "42. 42\n",
       "43. 43\n",
       "44. 44\n",
       "45. 45\n",
       "46. 46\n",
       "47. 47\n",
       "48. 48\n",
       "49. 49\n",
       "50. 50\n",
       "\n",
       "\n"
      ],
      "text/plain": [
       " [1]  1  2  3  4  5  6  7  8  9 10 11 12 13 14 15 16 17 18 19 20 21 22 23 24 25\n",
       "[26] 26 27 28 29 30 31 32 33 34 35 36 37 38 39 40 41 42 43 44 45 46 47 48 49 50"
      ]
     },
     "metadata": {},
     "output_type": "display_data"
    },
    {
     "data": {
      "text/html": [
       "<ol class=list-inline>\n",
       "\t<li>4</li>\n",
       "\t<li>4</li>\n",
       "\t<li>4</li>\n",
       "\t<li>4</li>\n",
       "\t<li>4</li>\n",
       "\t<li>4</li>\n",
       "\t<li>4</li>\n",
       "\t<li>4</li>\n",
       "\t<li>4</li>\n",
       "\t<li>4</li>\n",
       "\t<li>4</li>\n",
       "\t<li>4</li>\n",
       "\t<li>4</li>\n",
       "\t<li>4</li>\n",
       "\t<li>4</li>\n",
       "\t<li>4</li>\n",
       "\t<li>4</li>\n",
       "\t<li>4</li>\n",
       "\t<li>4</li>\n",
       "\t<li>4</li>\n",
       "\t<li>4</li>\n",
       "\t<li>4</li>\n",
       "\t<li>4</li>\n",
       "\t<li>4</li>\n",
       "\t<li>4</li>\n",
       "\t<li>4</li>\n",
       "\t<li>4</li>\n",
       "\t<li>4</li>\n",
       "\t<li>4</li>\n",
       "\t<li>4</li>\n",
       "\t<li>4</li>\n",
       "\t<li>4</li>\n",
       "\t<li>4</li>\n",
       "\t<li>4</li>\n",
       "\t<li>4</li>\n",
       "\t<li>4</li>\n",
       "\t<li>4</li>\n",
       "\t<li>4</li>\n",
       "\t<li>4</li>\n",
       "\t<li>4</li>\n",
       "\t<li>4</li>\n",
       "\t<li>4</li>\n",
       "\t<li>4</li>\n",
       "\t<li>4</li>\n",
       "\t<li>4</li>\n",
       "\t<li>4</li>\n",
       "</ol>\n"
      ],
      "text/latex": [
       "\\begin{enumerate*}\n",
       "\\item 4\n",
       "\\item 4\n",
       "\\item 4\n",
       "\\item 4\n",
       "\\item 4\n",
       "\\item 4\n",
       "\\item 4\n",
       "\\item 4\n",
       "\\item 4\n",
       "\\item 4\n",
       "\\item 4\n",
       "\\item 4\n",
       "\\item 4\n",
       "\\item 4\n",
       "\\item 4\n",
       "\\item 4\n",
       "\\item 4\n",
       "\\item 4\n",
       "\\item 4\n",
       "\\item 4\n",
       "\\item 4\n",
       "\\item 4\n",
       "\\item 4\n",
       "\\item 4\n",
       "\\item 4\n",
       "\\item 4\n",
       "\\item 4\n",
       "\\item 4\n",
       "\\item 4\n",
       "\\item 4\n",
       "\\item 4\n",
       "\\item 4\n",
       "\\item 4\n",
       "\\item 4\n",
       "\\item 4\n",
       "\\item 4\n",
       "\\item 4\n",
       "\\item 4\n",
       "\\item 4\n",
       "\\item 4\n",
       "\\item 4\n",
       "\\item 4\n",
       "\\item 4\n",
       "\\item 4\n",
       "\\item 4\n",
       "\\item 4\n",
       "\\end{enumerate*}\n"
      ],
      "text/markdown": [
       "1. 4\n",
       "2. 4\n",
       "3. 4\n",
       "4. 4\n",
       "5. 4\n",
       "6. 4\n",
       "7. 4\n",
       "8. 4\n",
       "9. 4\n",
       "10. 4\n",
       "11. 4\n",
       "12. 4\n",
       "13. 4\n",
       "14. 4\n",
       "15. 4\n",
       "16. 4\n",
       "17. 4\n",
       "18. 4\n",
       "19. 4\n",
       "20. 4\n",
       "21. 4\n",
       "22. 4\n",
       "23. 4\n",
       "24. 4\n",
       "25. 4\n",
       "26. 4\n",
       "27. 4\n",
       "28. 4\n",
       "29. 4\n",
       "30. 4\n",
       "31. 4\n",
       "32. 4\n",
       "33. 4\n",
       "34. 4\n",
       "35. 4\n",
       "36. 4\n",
       "37. 4\n",
       "38. 4\n",
       "39. 4\n",
       "40. 4\n",
       "41. 4\n",
       "42. 4\n",
       "43. 4\n",
       "44. 4\n",
       "45. 4\n",
       "46. 4\n",
       "\n",
       "\n"
      ],
      "text/plain": [
       " [1] 4 4 4 4 4 4 4 4 4 4 4 4 4 4 4 4 4 4 4 4 4 4 4 4 4 4 4 4 4 4 4 4 4 4 4 4 4 4\n",
       "[39] 4 4 4 4 4 4 4 4"
      ]
     },
     "metadata": {},
     "output_type": "display_data"
    }
   ],
   "source": [
    "v_3 <- c(1:50)\n",
    "v_3\n",
    "\n",
    "v_3_bis <- diff(v_3, 4) #iteration to compute lagged differences within a vector and returns results in a vector\n",
    "v_3_bis"
   ]
  },
  {
   "cell_type": "code",
   "execution_count": 78,
   "metadata": {
    "collapsed": false
   },
   "outputs": [
    {
     "data": {
      "text/html": [
       "<ol class=list-inline>\n",
       "\t<li>State 1</li>\n",
       "\t<li>State 2</li>\n",
       "\t<li>State 3</li>\n",
       "</ol>\n"
      ],
      "text/latex": [
       "\\begin{enumerate*}\n",
       "\\item State 1\n",
       "\\item State 2\n",
       "\\item State 3\n",
       "\\end{enumerate*}\n"
      ],
      "text/markdown": [
       "1. State 1\n",
       "2. State 2\n",
       "3. State 3\n",
       "\n",
       "\n"
      ],
      "text/plain": [
       "[1] State 1 State 2 State 3\n",
       "Levels: State 1 State 2 State 3"
      ]
     },
     "metadata": {},
     "output_type": "display_data"
    }
   ],
   "source": [
    "gl(3, 1, labels = c(\"State 1\",\"State 2\", \"State 3\")) #creates a control variable with given number of possible states\n",
    "#not really sure of how/when to use it "
   ]
  },
  {
   "cell_type": "code",
   "execution_count": 80,
   "metadata": {
    "collapsed": false
   },
   "outputs": [
    {
     "data": {
      "text/html": [
       "4"
      ],
      "text/latex": [
       "4"
      ],
      "text/markdown": [
       "4"
      ],
      "text/plain": [
       "[1] 4"
      ]
     },
     "metadata": {},
     "output_type": "display_data"
    }
   ],
   "source": [
    "strings <- c(\"Hello\",\"my name\",\"is\",\"Joe\")\n",
    "grep(\"Joe\", strings) #looks for a specific pattern in a given array and returns its position\n",
    "#?grep"
   ]
  },
  {
   "cell_type": "code",
   "execution_count": 84,
   "metadata": {
    "collapsed": false
   },
   "outputs": [
    {
     "data": {
      "text/html": [
       "FALSE"
      ],
      "text/latex": [
       "FALSE"
      ],
      "text/markdown": [
       "FALSE"
      ],
      "text/plain": [
       "[1] FALSE"
      ]
     },
     "metadata": {},
     "output_type": "display_data"
    },
    {
     "data": {
      "text/html": [
       "TRUE"
      ],
      "text/latex": [
       "TRUE"
      ],
      "text/markdown": [
       "TRUE"
      ],
      "text/plain": [
       "[1] TRUE"
      ]
     },
     "metadata": {},
     "output_type": "display_data"
    },
    {
     "data": {
      "text/html": [
       "FALSE"
      ],
      "text/latex": [
       "FALSE"
      ],
      "text/markdown": [
       "FALSE"
      ],
      "text/plain": [
       "[1] FALSE"
      ]
     },
     "metadata": {},
     "output_type": "display_data"
    }
   ],
   "source": [
    "vector1 <- c(1,2,3)\n",
    "vector2 <- c(1:3)\n",
    "vector3 <- c(\"hello\")\n",
    "vector4 <- c(\"hello\")\n",
    "\n",
    "identical(vector1, vector2) #tests if two input arguments are exactly equal\n",
    "identical(vector3, vector4)\n",
    "identical(vector1, vector4)"
   ]
  },
  {
   "cell_type": "code",
   "execution_count": 88,
   "metadata": {
    "collapsed": false
   },
   "outputs": [
    {
     "data": {
      "text/html": [
       "<ol class=list-inline>\n",
       "\t<li>1</li>\n",
       "\t<li>2</li>\n",
       "\t<li>3</li>\n",
       "\t<li>4</li>\n",
       "\t<li>5</li>\n",
       "\t<li>6</li>\n",
       "\t<li>7</li>\n",
       "\t<li>8</li>\n",
       "\t<li>9</li>\n",
       "\t<li>10</li>\n",
       "\t<li>11</li>\n",
       "\t<li>12</li>\n",
       "\t<li>13</li>\n",
       "\t<li>14</li>\n",
       "\t<li>15</li>\n",
       "\t<li>16</li>\n",
       "\t<li>17</li>\n",
       "\t<li>18</li>\n",
       "\t<li>19</li>\n",
       "\t<li>20</li>\n",
       "\t<li>21</li>\n",
       "\t<li>22</li>\n",
       "\t<li>23</li>\n",
       "\t<li>24</li>\n",
       "\t<li>25</li>\n",
       "</ol>\n"
      ],
      "text/latex": [
       "\\begin{enumerate*}\n",
       "\\item 1\n",
       "\\item 2\n",
       "\\item 3\n",
       "\\item 4\n",
       "\\item 5\n",
       "\\item 6\n",
       "\\item 7\n",
       "\\item 8\n",
       "\\item 9\n",
       "\\item 10\n",
       "\\item 11\n",
       "\\item 12\n",
       "\\item 13\n",
       "\\item 14\n",
       "\\item 15\n",
       "\\item 16\n",
       "\\item 17\n",
       "\\item 18\n",
       "\\item 19\n",
       "\\item 20\n",
       "\\item 21\n",
       "\\item 22\n",
       "\\item 23\n",
       "\\item 24\n",
       "\\item 25\n",
       "\\end{enumerate*}\n"
      ],
      "text/markdown": [
       "1. 1\n",
       "2. 2\n",
       "3. 3\n",
       "4. 4\n",
       "5. 5\n",
       "6. 6\n",
       "7. 7\n",
       "8. 8\n",
       "9. 9\n",
       "10. 10\n",
       "11. 11\n",
       "12. 12\n",
       "13. 13\n",
       "14. 14\n",
       "15. 15\n",
       "16. 16\n",
       "17. 17\n",
       "18. 18\n",
       "19. 19\n",
       "20. 20\n",
       "21. 21\n",
       "22. 22\n",
       "23. 23\n",
       "24. 24\n",
       "25. 25\n",
       "\n",
       "\n"
      ],
      "text/plain": [
       " [1]  1  2  3  4  5  6  7  8  9 10 11 12 13 14 15 16 17 18 19 20 21 22 23 24 25"
      ]
     },
     "metadata": {},
     "output_type": "display_data"
    },
    {
     "data": {
      "text/html": [
       "<ol class=list-inline>\n",
       "\t<li>0.905008402932435</li>\n",
       "\t<li>1.98193087084219</li>\n",
       "\t<li>3.0161947301589</li>\n",
       "\t<li>4.14725734312087</li>\n",
       "\t<li>5.17997920336202</li>\n",
       "\t<li>6.01292636245489</li>\n",
       "\t<li>6.8022029411979</li>\n",
       "\t<li>8.03095953669399</li>\n",
       "\t<li>8.84610904967412</li>\n",
       "\t<li>9.8130193608813</li>\n",
       "\t<li>11.1296007469296</li>\n",
       "\t<li>11.998994750157</li>\n",
       "\t<li>12.8641706877388</li>\n",
       "\t<li>13.9215323005803</li>\n",
       "\t<li>15.1768754892983</li>\n",
       "\t<li>15.8178969282657</li>\n",
       "\t<li>17.1714779617265</li>\n",
       "\t<li>17.9895353787579</li>\n",
       "\t<li>19.0449394214898</li>\n",
       "\t<li>20.0042941136286</li>\n",
       "\t<li>21.1419592594728</li>\n",
       "\t<li>21.9177797975019</li>\n",
       "\t<li>23.0922881971113</li>\n",
       "\t<li>23.8436282802373</li>\n",
       "\t<li>24.9321673735976</li>\n",
       "</ol>\n"
      ],
      "text/latex": [
       "\\begin{enumerate*}\n",
       "\\item 0.905008402932435\n",
       "\\item 1.98193087084219\n",
       "\\item 3.0161947301589\n",
       "\\item 4.14725734312087\n",
       "\\item 5.17997920336202\n",
       "\\item 6.01292636245489\n",
       "\\item 6.8022029411979\n",
       "\\item 8.03095953669399\n",
       "\\item 8.84610904967412\n",
       "\\item 9.8130193608813\n",
       "\\item 11.1296007469296\n",
       "\\item 11.998994750157\n",
       "\\item 12.8641706877388\n",
       "\\item 13.9215323005803\n",
       "\\item 15.1768754892983\n",
       "\\item 15.8178969282657\n",
       "\\item 17.1714779617265\n",
       "\\item 17.9895353787579\n",
       "\\item 19.0449394214898\n",
       "\\item 20.0042941136286\n",
       "\\item 21.1419592594728\n",
       "\\item 21.9177797975019\n",
       "\\item 23.0922881971113\n",
       "\\item 23.8436282802373\n",
       "\\item 24.9321673735976\n",
       "\\end{enumerate*}\n"
      ],
      "text/markdown": [
       "1. 0.905008402932435\n",
       "2. 1.98193087084219\n",
       "3. 3.0161947301589\n",
       "4. 4.14725734312087\n",
       "5. 5.17997920336202\n",
       "6. 6.01292636245489\n",
       "7. 6.8022029411979\n",
       "8. 8.03095953669399\n",
       "9. 8.84610904967412\n",
       "10. 9.8130193608813\n",
       "11. 11.1296007469296\n",
       "12. 11.998994750157\n",
       "13. 12.8641706877388\n",
       "14. 13.9215323005803\n",
       "15. 15.1768754892983\n",
       "16. 15.8178969282657\n",
       "17. 17.1714779617265\n",
       "18. 17.9895353787579\n",
       "19. 19.0449394214898\n",
       "20. 20.0042941136286\n",
       "21. 21.1419592594728\n",
       "22. 21.9177797975019\n",
       "23. 23.0922881971113\n",
       "24. 23.8436282802373\n",
       "25. 24.9321673735976\n",
       "\n",
       "\n"
      ],
      "text/plain": [
       " [1]  0.9050084  1.9819309  3.0161947  4.1472573  5.1799792  6.0129264\n",
       " [7]  6.8022029  8.0309595  8.8461090  9.8130194 11.1296007 11.9989948\n",
       "[13] 12.8641707 13.9215323 15.1768755 15.8178969 17.1714780 17.9895354\n",
       "[19] 19.0449394 20.0042941 21.1419593 21.9177798 23.0922882 23.8436283\n",
       "[25] 24.9321674"
      ]
     },
     "metadata": {},
     "output_type": "display_data"
    }
   ],
   "source": [
    "dataset <- c(1:25)\n",
    "dataset\n",
    "jitter(dataset, factor = 1) #adds to each observation a random noise value bounded by the factor value\n"
   ]
  },
  {
   "cell_type": "code",
   "execution_count": 99,
   "metadata": {
    "collapsed": false
   },
   "outputs": [
    {
     "data": {
      "text/html": [
       "3499"
      ],
      "text/latex": [
       "3499"
      ],
      "text/markdown": [
       "3499"
      ],
      "text/plain": [
       "[1] 3499\n",
       "attr(,\"origin\")\n",
       "[1] \"0001-01-20\""
      ]
     },
     "metadata": {},
     "output_type": "display_data"
    }
   ],
   "source": [
    "origin <- as.Date(\"01-01-2016\")\n",
    "today_date <- as.Date(\"13-10-2016\")\n",
    "julian(date, origin = origin) #return number of days between specified date and origin"
   ]
  },
  {
   "cell_type": "code",
   "execution_count": 102,
   "metadata": {
    "collapsed": false
   },
   "outputs": [
    {
     "data": {
      "text/html": [
       "9"
      ],
      "text/latex": [
       "9"
      ],
      "text/markdown": [
       "9"
      ],
      "text/plain": [
       "[1] 9"
      ]
     },
     "metadata": {},
     "output_type": "display_data"
    },
    {
     "data": {
      "text/html": [
       "5"
      ],
      "text/latex": [
       "5"
      ],
      "text/markdown": [
       "5"
      ],
      "text/plain": [
       "[1] 5"
      ]
     },
     "metadata": {},
     "output_type": "display_data"
    }
   ],
   "source": [
    "vec_1 <- c(1:9)\n",
    "vec_2 <- c(\"Hello\",\"I\",\"am\",\"John\",\"Doe\")\n",
    "\n",
    "length(vec_1)# returns the number of components of a vector\n",
    "length(vec_2)"
   ]
  },
  {
   "cell_type": "code",
   "execution_count": 131,
   "metadata": {
    "collapsed": false
   },
   "outputs": [
    {
     "data": {
      "text/html": [
       "<ol class=list-inline>\n",
       "\t<li>'c'</li>\n",
       "\t<li>'dataset'</li>\n",
       "\t<li>'date'</li>\n",
       "\t<li>'end'</li>\n",
       "\t<li>'i'</li>\n",
       "\t<li>'intro'</li>\n",
       "\t<li>'list'</li>\n",
       "\t<li>'matrix_1'</li>\n",
       "\t<li>'matrix_2'</li>\n",
       "\t<li>'n'</li>\n",
       "\t<li>'name_paste'</li>\n",
       "\t<li>'names'</li>\n",
       "\t<li>'nth'</li>\n",
       "\t<li>'origin'</li>\n",
       "\t<li>'paste_2'</li>\n",
       "\t<li>'q'</li>\n",
       "\t<li>'quit'</li>\n",
       "\t<li>'start'</li>\n",
       "\t<li>'strings'</li>\n",
       "\t<li>'today_date'</li>\n",
       "\t<li>'v_1'</li>\n",
       "\t<li>'v_2'</li>\n",
       "\t<li>'v_3'</li>\n",
       "\t<li>'v_3_bis'</li>\n",
       "\t<li>'vec_1'</li>\n",
       "\t<li>'vec_2'</li>\n",
       "\t<li>'vect'</li>\n",
       "\t<li>'vect_rep'</li>\n",
       "\t<li>'vector1'</li>\n",
       "\t<li>'vector2'</li>\n",
       "\t<li>'vector3'</li>\n",
       "\t<li>'vector4'</li>\n",
       "\t<li>'x'</li>\n",
       "\t<li>'x_2'</li>\n",
       "</ol>\n"
      ],
      "text/latex": [
       "\\begin{enumerate*}\n",
       "\\item 'c'\n",
       "\\item 'dataset'\n",
       "\\item 'date'\n",
       "\\item 'end'\n",
       "\\item 'i'\n",
       "\\item 'intro'\n",
       "\\item 'list'\n",
       "\\item 'matrix\\_1'\n",
       "\\item 'matrix\\_2'\n",
       "\\item 'n'\n",
       "\\item 'name\\_paste'\n",
       "\\item 'names'\n",
       "\\item 'nth'\n",
       "\\item 'origin'\n",
       "\\item 'paste\\_2'\n",
       "\\item 'q'\n",
       "\\item 'quit'\n",
       "\\item 'start'\n",
       "\\item 'strings'\n",
       "\\item 'today\\_date'\n",
       "\\item 'v\\_1'\n",
       "\\item 'v\\_2'\n",
       "\\item 'v\\_3'\n",
       "\\item 'v\\_3\\_bis'\n",
       "\\item 'vec\\_1'\n",
       "\\item 'vec\\_2'\n",
       "\\item 'vect'\n",
       "\\item 'vect\\_rep'\n",
       "\\item 'vector1'\n",
       "\\item 'vector2'\n",
       "\\item 'vector3'\n",
       "\\item 'vector4'\n",
       "\\item 'x'\n",
       "\\item 'x\\_2'\n",
       "\\end{enumerate*}\n"
      ],
      "text/markdown": [
       "1. 'c'\n",
       "2. 'dataset'\n",
       "3. 'date'\n",
       "4. 'end'\n",
       "5. 'i'\n",
       "6. 'intro'\n",
       "7. 'list'\n",
       "8. 'matrix_1'\n",
       "9. 'matrix_2'\n",
       "10. 'n'\n",
       "11. 'name_paste'\n",
       "12. 'names'\n",
       "13. 'nth'\n",
       "14. 'origin'\n",
       "15. 'paste_2'\n",
       "16. 'q'\n",
       "17. 'quit'\n",
       "18. 'start'\n",
       "19. 'strings'\n",
       "20. 'today_date'\n",
       "21. 'v_1'\n",
       "22. 'v_2'\n",
       "23. 'v_3'\n",
       "24. 'v_3_bis'\n",
       "25. 'vec_1'\n",
       "26. 'vec_2'\n",
       "27. 'vect'\n",
       "28. 'vect_rep'\n",
       "29. 'vector1'\n",
       "30. 'vector2'\n",
       "31. 'vector3'\n",
       "32. 'vector4'\n",
       "33. 'x'\n",
       "34. 'x_2'\n",
       "\n",
       "\n"
      ],
      "text/plain": [
       " [1] \"c\"          \"dataset\"    \"date\"       \"end\"        \"i\"         \n",
       " [6] \"intro\"      \"list\"       \"matrix_1\"   \"matrix_2\"   \"n\"         \n",
       "[11] \"name_paste\" \"names\"      \"nth\"        \"origin\"     \"paste_2\"   \n",
       "[16] \"q\"          \"quit\"       \"start\"      \"strings\"    \"today_date\"\n",
       "[21] \"v_1\"        \"v_2\"        \"v_3\"        \"v_3_bis\"    \"vec_1\"     \n",
       "[26] \"vec_2\"      \"vect\"       \"vect_rep\"   \"vector1\"    \"vector2\"   \n",
       "[31] \"vector3\"    \"vector4\"    \"x\"          \"x_2\"       "
      ]
     },
     "metadata": {},
     "output_type": "display_data"
    }
   ],
   "source": [
    "ls() #?"
   ]
  },
  {
   "cell_type": "code",
   "execution_count": 106,
   "metadata": {
    "collapsed": false
   },
   "outputs": [
    {
     "data": {
      "text/html": [
       "<table>\n",
       "<tbody>\n",
       "\t<tr><td>0</td><td>0</td><td>0</td></tr>\n",
       "\t<tr><td>0</td><td>0</td><td>0</td></tr>\n",
       "\t<tr><td>0</td><td>0</td><td>0</td></tr>\n",
       "\t<tr><td>0</td><td>0</td><td>0</td></tr>\n",
       "\t<tr><td>0</td><td>0</td><td>0</td></tr>\n",
       "\t<tr><td>0</td><td>0</td><td>0</td></tr>\n",
       "</tbody>\n",
       "</table>\n"
      ],
      "text/latex": [
       "\\begin{tabular}{lll}\n",
       "\t 0 & 0 & 0\\\\\n",
       "\t 0 & 0 & 0\\\\\n",
       "\t 0 & 0 & 0\\\\\n",
       "\t 0 & 0 & 0\\\\\n",
       "\t 0 & 0 & 0\\\\\n",
       "\t 0 & 0 & 0\\\\\n",
       "\\end{tabular}\n"
      ],
      "text/markdown": [
       "1. 0\n",
       "2. 0\n",
       "3. 0\n",
       "4. 0\n",
       "5. 0\n",
       "6. 0\n",
       "7. 0\n",
       "8. 0\n",
       "9. 0\n",
       "10. 0\n",
       "11. 0\n",
       "12. 0\n",
       "13. 0\n",
       "14. 0\n",
       "15. 0\n",
       "16. 0\n",
       "17. 0\n",
       "18. 0\n",
       "\n",
       "\n"
      ],
      "text/plain": [
       "     [,1] [,2] [,3]\n",
       "[1,]    0    0    0\n",
       "[2,]    0    0    0\n",
       "[3,]    0    0    0\n",
       "[4,]    0    0    0\n",
       "[5,]    0    0    0\n",
       "[6,]    0    0    0"
      ]
     },
     "metadata": {},
     "output_type": "display_data"
    }
   ],
   "source": [
    "mat.or.vec(6,5) #creates a matrix (or vector depending on number of columns)"
   ]
  },
  {
   "cell_type": "code",
   "execution_count": 119,
   "metadata": {
    "collapsed": false
   },
   "outputs": [
    {
     "data": {
      "text/html": [
       "<ol class=list-inline>\n",
       "\t<li>'Paste n° 1 : My name is Augustin'</li>\n",
       "\t<li>'Paste n° 2 : My name is John Doe'</li>\n",
       "\t<li>'Paste n° 3 : My name is Bill'</li>\n",
       "\t<li>'Paste n° 4 : My name is Augustin'</li>\n",
       "\t<li>'Paste n° 5 : My name is John Doe'</li>\n",
       "</ol>\n"
      ],
      "text/latex": [
       "\\begin{enumerate*}\n",
       "\\item 'Paste n° 1 : My name is Augustin'\n",
       "\\item 'Paste n° 2 : My name is John Doe'\n",
       "\\item 'Paste n° 3 : My name is Bill'\n",
       "\\item 'Paste n° 4 : My name is Augustin'\n",
       "\\item 'Paste n° 5 : My name is John Doe'\n",
       "\\end{enumerate*}\n"
      ],
      "text/markdown": [
       "1. 'Paste n° 1 : My name is Augustin'\n",
       "2. 'Paste n° 2 : My name is John Doe'\n",
       "3. 'Paste n° 3 : My name is Bill'\n",
       "4. 'Paste n° 4 : My name is Augustin'\n",
       "5. 'Paste n° 5 : My name is John Doe'\n",
       "\n",
       "\n"
      ],
      "text/plain": [
       "[1] \"Paste n° 1 : My name is Augustin\" \"Paste n° 2 : My name is John Doe\"\n",
       "[3] \"Paste n° 3 : My name is Bill\"     \"Paste n° 4 : My name is Augustin\"\n",
       "[5] \"Paste n° 5 : My name is John Doe\""
      ]
     },
     "metadata": {},
     "output_type": "display_data"
    }
   ],
   "source": [
    "#concatenates with a space vector inputs into a vector of strings\n",
    "name_paste <- paste(c(\"My name is\"), c(\"Augustin\", \"John Doe\", \"Bill\"))\n",
    "paste_2 <- paste(c(\"Paste n°\"), c(1:5))\n",
    "\n",
    "paste(paste_2,\":\", name_paste)"
   ]
  },
  {
   "cell_type": "code",
   "execution_count": 120,
   "metadata": {
    "collapsed": false
   },
   "outputs": [
    {
     "data": {
      "text/html": [
       "<ol class=list-inline>\n",
       "\t<li>'hello'</li>\n",
       "\t<li>'bonjour'</li>\n",
       "</ol>\n"
      ],
      "text/latex": [
       "\\begin{enumerate*}\n",
       "\\item 'hello'\n",
       "\\item 'bonjour'\n",
       "\\end{enumerate*}\n"
      ],
      "text/markdown": [
       "1. 'hello'\n",
       "2. 'bonjour'\n",
       "\n",
       "\n"
      ],
      "text/plain": [
       "[1] \"hello\"   \"bonjour\""
      ]
     },
     "metadata": {},
     "output_type": "display_data"
    }
   ],
   "source": [
    "start <- c(\"hel\",\"bon\")\n",
    "end <- c(\"lo\",\"jour\")\n",
    "\n",
    "paste0(start, end) #same as paste but without spacings between strings "
   ]
  },
  {
   "cell_type": "code",
   "execution_count": 124,
   "metadata": {
    "collapsed": false
   },
   "outputs": [
    {
     "data": {
      "text/html": [
       "<ol class=list-inline>\n",
       "\t<li>81.9968841969967</li>\n",
       "\t<li>18.8377121929079</li>\n",
       "\t<li>49.1070489631966</li>\n",
       "\t<li>33.5306311491877</li>\n",
       "\t<li>61.9703559670597</li>\n",
       "\t<li>62.0674666948617</li>\n",
       "\t<li>51.7672440269962</li>\n",
       "\t<li>82.7819117810577</li>\n",
       "\t<li>52.5123455328867</li>\n",
       "\t<li>88.4686842095107</li>\n",
       "</ol>\n"
      ],
      "text/latex": [
       "\\begin{enumerate*}\n",
       "\\item 81.9968841969967\n",
       "\\item 18.8377121929079\n",
       "\\item 49.1070489631966\n",
       "\\item 33.5306311491877\n",
       "\\item 61.9703559670597\n",
       "\\item 62.0674666948617\n",
       "\\item 51.7672440269962\n",
       "\\item 82.7819117810577\n",
       "\\item 52.5123455328867\n",
       "\\item 88.4686842095107\n",
       "\\end{enumerate*}\n"
      ],
      "text/markdown": [
       "1. 81.9968841969967\n",
       "2. 18.8377121929079\n",
       "3. 49.1070489631966\n",
       "4. 33.5306311491877\n",
       "5. 61.9703559670597\n",
       "6. 62.0674666948617\n",
       "7. 51.7672440269962\n",
       "8. 82.7819117810577\n",
       "9. 52.5123455328867\n",
       "10. 88.4686842095107\n",
       "\n",
       "\n"
      ],
      "text/plain": [
       " [1] 81.99688 18.83771 49.10705 33.53063 61.97036 62.06747 51.76724 82.78191\n",
       " [9] 52.51235 88.46868"
      ]
     },
     "metadata": {},
     "output_type": "display_data"
    },
    {
     "data": {
      "text/html": [
       "<ol class=list-inline>\n",
       "\t<li>18.8377121929079</li>\n",
       "\t<li>88.4686842095107</li>\n",
       "</ol>\n"
      ],
      "text/latex": [
       "\\begin{enumerate*}\n",
       "\\item 18.8377121929079\n",
       "\\item 88.4686842095107\n",
       "\\end{enumerate*}\n"
      ],
      "text/markdown": [
       "1. 18.8377121929079\n",
       "2. 88.4686842095107\n",
       "\n",
       "\n"
      ],
      "text/plain": [
       "[1] 18.83771 88.46868"
      ]
     },
     "metadata": {},
     "output_type": "display_data"
    }
   ],
   "source": [
    "list <- c(runif(10, 0, 100))\n",
    "list\n",
    "\n",
    "range(list) #returns highest and lowest value of a list"
   ]
  },
  {
   "cell_type": "code",
   "execution_count": 133,
   "metadata": {
    "collapsed": false
   },
   "outputs": [
    {
     "data": {
      "text/html": [
       "<table>\n",
       "<tbody>\n",
       "\t<tr><td>0</td><td>0</td><td>0</td><td>0</td><td>0</td></tr>\n",
       "\t<tr><td>1</td><td>1</td><td>1</td><td>1</td><td>1</td></tr>\n",
       "\t<tr><td>2</td><td>2</td><td>2</td><td>2</td><td>2</td></tr>\n",
       "\t<tr><td>3</td><td>3</td><td>3</td><td>3</td><td>3</td></tr>\n",
       "\t<tr><td>4</td><td>4</td><td>4</td><td>4</td><td>4</td></tr>\n",
       "\t<tr><td>5</td><td>5</td><td>5</td><td>5</td><td>5</td></tr>\n",
       "</tbody>\n",
       "</table>\n"
      ],
      "text/latex": [
       "\\begin{tabular}{lllll}\n",
       "\t 0 & 0 & 0 & 0 & 0\\\\\n",
       "\t 1 & 1 & 1 & 1 & 1\\\\\n",
       "\t 2 & 2 & 2 & 2 & 2\\\\\n",
       "\t 3 & 3 & 3 & 3 & 3\\\\\n",
       "\t 4 & 4 & 4 & 4 & 4\\\\\n",
       "\t 5 & 5 & 5 & 5 & 5\\\\\n",
       "\\end{tabular}\n"
      ],
      "text/markdown": [
       "1. 0\n",
       "2. 1\n",
       "3. 2\n",
       "4. 3\n",
       "5. 4\n",
       "6. 5\n",
       "7. 0\n",
       "8. 1\n",
       "9. 2\n",
       "10. 3\n",
       "11. 4\n",
       "12. 5\n",
       "13. 0\n",
       "14. 1\n",
       "15. 2\n",
       "16. 3\n",
       "17. 4\n",
       "18. 5\n",
       "19. 0\n",
       "20. 1\n",
       "21. 2\n",
       "22. 3\n",
       "23. 4\n",
       "24. 5\n",
       "25. 0\n",
       "26. 1\n",
       "27. 2\n",
       "28. 3\n",
       "29. 4\n",
       "30. 5\n",
       "\n",
       "\n"
      ],
      "text/plain": [
       "     [,1] [,2] [,3] [,4] [,5]\n",
       "[1,]    0    0    0    0    0\n",
       "[2,]    1    1    1    1    1\n",
       "[3,]    2    2    2    2    2\n",
       "[4,]    3    3    3    3    3\n",
       "[5,]    4    4    4    4    4\n",
       "[6,]    5    5    5    5    5"
      ]
     },
     "metadata": {},
     "output_type": "display_data"
    }
   ],
   "source": [
    "vect <- c(0:5)\n",
    "vect_rep <- matrix(rep(vect, 5),6,5) #replicates input value a specified number of times\n",
    "\n",
    "vect_rep"
   ]
  },
  {
   "cell_type": "code",
   "execution_count": 138,
   "metadata": {
    "collapsed": false
   },
   "outputs": [
    {
     "data": {
      "text/html": [
       "<ol class=list-inline>\n",
       "\t<li>1</li>\n",
       "\t<li>2</li>\n",
       "\t<li>3</li>\n",
       "\t<li>4</li>\n",
       "\t<li>5</li>\n",
       "\t<li>6</li>\n",
       "\t<li>7</li>\n",
       "\t<li>8</li>\n",
       "\t<li>9</li>\n",
       "\t<li>10</li>\n",
       "</ol>\n"
      ],
      "text/latex": [
       "\\begin{enumerate*}\n",
       "\\item 1\n",
       "\\item 2\n",
       "\\item 3\n",
       "\\item 4\n",
       "\\item 5\n",
       "\\item 6\n",
       "\\item 7\n",
       "\\item 8\n",
       "\\item 9\n",
       "\\item 10\n",
       "\\end{enumerate*}\n"
      ],
      "text/markdown": [
       "1. 1\n",
       "2. 2\n",
       "3. 3\n",
       "4. 4\n",
       "5. 5\n",
       "6. 6\n",
       "7. 7\n",
       "8. 8\n",
       "9. 9\n",
       "10. 10\n",
       "\n",
       "\n"
      ],
      "text/plain": [
       " [1]  1  2  3  4  5  6  7  8  9 10"
      ]
     },
     "metadata": {},
     "output_type": "display_data"
    },
    {
     "data": {
      "text/html": [
       "<ol class=list-inline>\n",
       "\t<li>10</li>\n",
       "\t<li>9</li>\n",
       "\t<li>8</li>\n",
       "\t<li>7</li>\n",
       "\t<li>6</li>\n",
       "\t<li>5</li>\n",
       "\t<li>4</li>\n",
       "\t<li>3</li>\n",
       "\t<li>2</li>\n",
       "\t<li>1</li>\n",
       "</ol>\n"
      ],
      "text/latex": [
       "\\begin{enumerate*}\n",
       "\\item 10\n",
       "\\item 9\n",
       "\\item 8\n",
       "\\item 7\n",
       "\\item 6\n",
       "\\item 5\n",
       "\\item 4\n",
       "\\item 3\n",
       "\\item 2\n",
       "\\item 1\n",
       "\\end{enumerate*}\n"
      ],
      "text/markdown": [
       "1. 10\n",
       "2. 9\n",
       "3. 8\n",
       "4. 7\n",
       "5. 6\n",
       "6. 5\n",
       "7. 4\n",
       "8. 3\n",
       "9. 2\n",
       "10. 1\n",
       "\n",
       "\n"
      ],
      "text/plain": [
       " [1] 10  9  8  7  6  5  4  3  2  1"
      ]
     },
     "metadata": {},
     "output_type": "display_data"
    }
   ],
   "source": [
    "a <- c(1:10)\n",
    "a\n",
    "rev(a) #sorts in a reverse way "
   ]
  },
  {
   "cell_type": "code",
   "execution_count": 141,
   "metadata": {
    "collapsed": false
   },
   "outputs": [
    {
     "data": {
      "text/html": [
       "<ol class=list-inline>\n",
       "\t<li>1</li>\n",
       "\t<li>1.5</li>\n",
       "\t<li>2</li>\n",
       "\t<li>2.5</li>\n",
       "\t<li>3</li>\n",
       "\t<li>3.5</li>\n",
       "\t<li>4</li>\n",
       "\t<li>4.5</li>\n",
       "\t<li>5</li>\n",
       "</ol>\n"
      ],
      "text/latex": [
       "\\begin{enumerate*}\n",
       "\\item 1\n",
       "\\item 1.5\n",
       "\\item 2\n",
       "\\item 2.5\n",
       "\\item 3\n",
       "\\item 3.5\n",
       "\\item 4\n",
       "\\item 4.5\n",
       "\\item 5\n",
       "\\end{enumerate*}\n"
      ],
      "text/markdown": [
       "1. 1\n",
       "2. 1.5\n",
       "3. 2\n",
       "4. 2.5\n",
       "5. 3\n",
       "6. 3.5\n",
       "7. 4\n",
       "8. 4.5\n",
       "9. 5\n",
       "\n",
       "\n"
      ],
      "text/plain": [
       "[1] 1.0 1.5 2.0 2.5 3.0 3.5 4.0 4.5 5.0"
      ]
     },
     "metadata": {},
     "output_type": "display_data"
    }
   ],
   "source": [
    "b <- seq(from = 1, to = 5, by = 0.5) #generates a sequence of number in specified bounds and step\n",
    "b"
   ]
  },
  {
   "cell_type": "code",
   "execution_count": 146,
   "metadata": {
    "collapsed": false
   },
   "outputs": [
    {
     "data": {
      "text/html": [
       "<ol class=list-inline>\n",
       "\t<li>1</li>\n",
       "\t<li>1</li>\n",
       "\t<li>2</li>\n",
       "\t<li>1</li>\n",
       "\t<li>2</li>\n",
       "\t<li>3</li>\n",
       "\t<li>1</li>\n",
       "\t<li>2</li>\n",
       "\t<li>3</li>\n",
       "\t<li>4</li>\n",
       "\t<li>1</li>\n",
       "\t<li>2</li>\n",
       "\t<li>3</li>\n",
       "\t<li>4</li>\n",
       "\t<li>5</li>\n",
       "</ol>\n"
      ],
      "text/latex": [
       "\\begin{enumerate*}\n",
       "\\item 1\n",
       "\\item 1\n",
       "\\item 2\n",
       "\\item 1\n",
       "\\item 2\n",
       "\\item 3\n",
       "\\item 1\n",
       "\\item 2\n",
       "\\item 3\n",
       "\\item 4\n",
       "\\item 1\n",
       "\\item 2\n",
       "\\item 3\n",
       "\\item 4\n",
       "\\item 5\n",
       "\\end{enumerate*}\n"
      ],
      "text/markdown": [
       "1. 1\n",
       "2. 1\n",
       "3. 2\n",
       "4. 1\n",
       "5. 2\n",
       "6. 3\n",
       "7. 1\n",
       "8. 2\n",
       "9. 3\n",
       "10. 4\n",
       "11. 1\n",
       "12. 2\n",
       "13. 3\n",
       "14. 4\n",
       "15. 5\n",
       "\n",
       "\n"
      ],
      "text/plain": [
       " [1] 1 1 2 1 2 3 1 2 3 4 1 2 3 4 5"
      ]
     },
     "metadata": {},
     "output_type": "display_data"
    }
   ],
   "source": [
    "c <- sequence(c(1:5))\n",
    "#generates sequences using a vector of end points and concatenates them into a single vector\n",
    "c"
   ]
  },
  {
   "cell_type": "code",
   "execution_count": 149,
   "metadata": {
    "collapsed": false
   },
   "outputs": [
    {
     "data": {
      "text/html": [
       "<ol class=list-inline>\n",
       "\t<li>-1</li>\n",
       "\t<li>1</li>\n",
       "\t<li>-1</li>\n",
       "\t<li>1</li>\n",
       "</ol>\n"
      ],
      "text/latex": [
       "\\begin{enumerate*}\n",
       "\\item -1\n",
       "\\item 1\n",
       "\\item -1\n",
       "\\item 1\n",
       "\\end{enumerate*}\n"
      ],
      "text/markdown": [
       "1. -1\n",
       "2. 1\n",
       "3. -1\n",
       "4. 1\n",
       "\n",
       "\n"
      ],
      "text/plain": [
       "[1] -1  1 -1  1"
      ]
     },
     "metadata": {},
     "output_type": "display_data"
    }
   ],
   "source": [
    "sign(c(-5,1,-4,3)) # returns the sign of each entries of a given vector"
   ]
  },
  {
   "cell_type": "code",
   "execution_count": 153,
   "metadata": {
    "collapsed": false
   },
   "outputs": [
    {
     "data": {
      "text/html": [
       "<ol class=list-inline>\n",
       "\t<li>3</li>\n",
       "\t<li>4</li>\n",
       "\t<li>1</li>\n",
       "\t<li>-9</li>\n",
       "\t<li>NA</li>\n",
       "\t<li>0</li>\n",
       "\t<li>NA</li>\n",
       "\t<li>42</li>\n",
       "\t<li>-3</li>\n",
       "</ol>\n"
      ],
      "text/latex": [
       "\\begin{enumerate*}\n",
       "\\item 3\n",
       "\\item 4\n",
       "\\item 1\n",
       "\\item -9\n",
       "\\item NA\n",
       "\\item 0\n",
       "\\item NA\n",
       "\\item 42\n",
       "\\item -3\n",
       "\\end{enumerate*}\n"
      ],
      "text/markdown": [
       "1. 3\n",
       "2. 4\n",
       "3. 1\n",
       "4. -9\n",
       "5. NA\n",
       "6. 0\n",
       "7. NA\n",
       "8. 42\n",
       "9. -3\n",
       "\n",
       "\n"
      ],
      "text/plain": [
       "[1]  3  4  1 -9 NA  0 NA 42 -3"
      ]
     },
     "metadata": {},
     "output_type": "display_data"
    },
    {
     "data": {
      "text/html": [
       "<ol class=list-inline>\n",
       "\t<li>-9</li>\n",
       "\t<li>-3</li>\n",
       "\t<li>0</li>\n",
       "\t<li>1</li>\n",
       "\t<li>3</li>\n",
       "\t<li>4</li>\n",
       "\t<li>42</li>\n",
       "\t<li>NA</li>\n",
       "\t<li>NA</li>\n",
       "</ol>\n"
      ],
      "text/latex": [
       "\\begin{enumerate*}\n",
       "\\item -9\n",
       "\\item -3\n",
       "\\item 0\n",
       "\\item 1\n",
       "\\item 3\n",
       "\\item 4\n",
       "\\item 42\n",
       "\\item NA\n",
       "\\item NA\n",
       "\\end{enumerate*}\n"
      ],
      "text/markdown": [
       "1. -9\n",
       "2. -3\n",
       "3. 0\n",
       "4. 1\n",
       "5. 3\n",
       "6. 4\n",
       "7. 42\n",
       "8. NA\n",
       "9. NA\n",
       "\n",
       "\n"
      ],
      "text/plain": [
       "[1] -9 -3  0  1  3  4 42 NA NA"
      ]
     },
     "metadata": {},
     "output_type": "display_data"
    },
    {
     "data": {
      "text/html": [
       "<ol class=list-inline>\n",
       "\t<li>3</li>\n",
       "\t<li>4</li>\n",
       "\t<li>1</li>\n",
       "\t<li>-9</li>\n",
       "\t<li>NA</li>\n",
       "\t<li>0</li>\n",
       "\t<li>NA</li>\n",
       "\t<li>42</li>\n",
       "\t<li>-3</li>\n",
       "</ol>\n"
      ],
      "text/latex": [
       "\\begin{enumerate*}\n",
       "\\item 3\n",
       "\\item 4\n",
       "\\item 1\n",
       "\\item -9\n",
       "\\item NA\n",
       "\\item 0\n",
       "\\item NA\n",
       "\\item 42\n",
       "\\item -3\n",
       "\\end{enumerate*}\n"
      ],
      "text/markdown": [
       "1. 3\n",
       "2. 4\n",
       "3. 1\n",
       "4. -9\n",
       "5. NA\n",
       "6. 0\n",
       "7. NA\n",
       "8. 42\n",
       "9. -3\n",
       "\n",
       "\n"
      ],
      "text/plain": [
       "[1]  3  4  1 -9 NA  0 NA 42 -3"
      ]
     },
     "metadata": {},
     "output_type": "display_data"
    }
   ],
   "source": [
    "list_1 <- c(3,4,1,-9,NA,0,NA,42,-3)\n",
    "list_1\n",
    "sort(list_1, decreasing = FALSE, na.last = TRUE) #orders a given vector in a specified way"
   ]
  },
  {
   "cell_type": "code",
   "execution_count": 157,
   "metadata": {
    "collapsed": false
   },
   "outputs": [
    {
     "data": {
      "text/plain": [
       "NULL"
      ]
     },
     "metadata": {},
     "output_type": "display_data"
    }
   ],
   "source": [
    "order() #same as sort?"
   ]
  },
  {
   "cell_type": "code",
   "execution_count": 159,
   "metadata": {
    "collapsed": false
   },
   "outputs": [
    {
     "data": {
      "text/html": [
       "'hello'"
      ],
      "text/latex": [
       "'hello'"
      ],
      "text/markdown": [
       "'hello'"
      ],
      "text/plain": [
       "[1] \"hello\""
      ]
     },
     "metadata": {},
     "output_type": "display_data"
    }
   ],
   "source": [
    "tolower(\"HELLO\") #translates capital case into lower"
   ]
  },
  {
   "cell_type": "code",
   "execution_count": 160,
   "metadata": {
    "collapsed": false
   },
   "outputs": [
    {
     "data": {
      "text/html": [
       "'HELLO'"
      ],
      "text/latex": [
       "'HELLO'"
      ],
      "text/markdown": [
       "'HELLO'"
      ],
      "text/plain": [
       "[1] \"HELLO\""
      ]
     },
     "metadata": {},
     "output_type": "display_data"
    }
   ],
   "source": [
    "toupper(\"hello\") #converts lower to capital case"
   ]
  },
  {
   "cell_type": "code",
   "execution_count": 165,
   "metadata": {
    "collapsed": false
   },
   "outputs": [
    {
     "data": {
      "text/html": [
       "<ol class=list-inline>\n",
       "\t<li>1</li>\n",
       "\t<li>1</li>\n",
       "\t<li>1</li>\n",
       "\t<li>1</li>\n",
       "\t<li>1</li>\n",
       "\t<li>3</li>\n",
       "</ol>\n"
      ],
      "text/latex": [
       "\\begin{enumerate*}\n",
       "\\item 1\n",
       "\\item 1\n",
       "\\item 1\n",
       "\\item 1\n",
       "\\item 1\n",
       "\\item 3\n",
       "\\end{enumerate*}\n"
      ],
      "text/markdown": [
       "1. 1\n",
       "2. 1\n",
       "3. 1\n",
       "4. 1\n",
       "5. 1\n",
       "6. 3\n",
       "\n",
       "\n"
      ],
      "text/plain": [
       "[1] 1 1 1 1 1 3"
      ]
     },
     "metadata": {},
     "output_type": "display_data"
    },
    {
     "data": {
      "text/html": [
       "<table>\n",
       "<tbody>\n",
       "\t<tr><td>1</td><td>1</td><td>1</td></tr>\n",
       "\t<tr><td>1</td><td>1</td><td>1</td></tr>\n",
       "\t<tr><td>1</td><td>1</td><td>1</td></tr>\n",
       "\t<tr><td>1</td><td>1</td><td>1</td></tr>\n",
       "\t<tr><td>1</td><td>1</td><td>1</td></tr>\n",
       "\t<tr><td>3</td><td>3</td><td>3</td></tr>\n",
       "</tbody>\n",
       "</table>\n"
      ],
      "text/latex": [
       "\\begin{tabular}{lll}\n",
       "\t 1 & 1 & 1\\\\\n",
       "\t 1 & 1 & 1\\\\\n",
       "\t 1 & 1 & 1\\\\\n",
       "\t 1 & 1 & 1\\\\\n",
       "\t 1 & 1 & 1\\\\\n",
       "\t 3 & 3 & 3\\\\\n",
       "\\end{tabular}\n"
      ],
      "text/markdown": [
       "1. 1\n",
       "2. 1\n",
       "3. 1\n",
       "4. 1\n",
       "5. 1\n",
       "6. 3\n",
       "7. 1\n",
       "8. 1\n",
       "9. 1\n",
       "10. 1\n",
       "11. 1\n",
       "12. 3\n",
       "13. 1\n",
       "14. 1\n",
       "15. 1\n",
       "16. 1\n",
       "17. 1\n",
       "18. 3\n",
       "\n",
       "\n"
      ],
      "text/plain": [
       "     [,1] [,2] [,3]\n",
       "[1,]    1    1    1\n",
       "[2,]    1    1    1\n",
       "[3,]    1    1    1\n",
       "[4,]    1    1    1\n",
       "[5,]    1    1    1\n",
       "[6,]    3    3    3"
      ]
     },
     "metadata": {},
     "output_type": "display_data"
    },
    {
     "data": {
      "text/html": [
       "<ol class=list-inline>\n",
       "\t<li>1</li>\n",
       "\t<li>3</li>\n",
       "</ol>\n"
      ],
      "text/latex": [
       "\\begin{enumerate*}\n",
       "\\item 1\n",
       "\\item 3\n",
       "\\end{enumerate*}\n"
      ],
      "text/markdown": [
       "1. 1\n",
       "2. 3\n",
       "\n",
       "\n"
      ],
      "text/plain": [
       "[1] 1 3"
      ]
     },
     "metadata": {},
     "output_type": "display_data"
    },
    {
     "data": {
      "text/html": [
       "<table>\n",
       "<tbody>\n",
       "\t<tr><td>1</td><td>1</td><td>1</td></tr>\n",
       "\t<tr><td>3</td><td>3</td><td>3</td></tr>\n",
       "</tbody>\n",
       "</table>\n"
      ],
      "text/latex": [
       "\\begin{tabular}{lll}\n",
       "\t 1 & 1 & 1\\\\\n",
       "\t 3 & 3 & 3\\\\\n",
       "\\end{tabular}\n"
      ],
      "text/markdown": [
       "1. 1\n",
       "2. 3\n",
       "3. 1\n",
       "4. 3\n",
       "5. 1\n",
       "6. 3\n",
       "\n",
       "\n"
      ],
      "text/plain": [
       "     [,1] [,2] [,3]\n",
       "[1,]    1    1    1\n",
       "[2,]    3    3    3"
      ]
     },
     "metadata": {},
     "output_type": "display_data"
    }
   ],
   "source": [
    "p <- c(1,1,1,1,1,3)\n",
    "mat <- matrix(rep(p,3),6,3)\n",
    "p\n",
    "mat\n",
    "\n",
    "unique(p) # removes duplicate occurences in a vector/matrix column\n",
    "unique(mat)"
   ]
  },
  {
   "cell_type": "code",
   "execution_count": 167,
   "metadata": {
    "collapsed": false
   },
   "outputs": [
    {
     "ename": "ERROR",
     "evalue": "Error in system(): argument \"command\" is missing, with no default\n",
     "output_type": "error",
     "traceback": [
      "Error in system(): argument \"command\" is missing, with no default\nTraceback:\n",
      "1. system()"
     ]
    }
   ],
   "source": [
    "system() #?\n",
    "vector"
   ]
  },
  {
   "cell_type": "markdown",
   "metadata": {},
   "source": [
    "### Part 2. Matrix manipulation"
   ]
  },
  {
   "cell_type": "code",
   "execution_count": 3,
   "metadata": {
    "collapsed": false
   },
   "outputs": [
    {
     "data": {
      "text/html": [
       "<table>\n",
       "<tbody>\n",
       "\t<tr><td>1</td><td>2</td></tr>\n",
       "\t<tr><td>3</td><td>4</td></tr>\n",
       "</tbody>\n",
       "</table>\n"
      ],
      "text/latex": [
       "\\begin{tabular}{ll}\n",
       "\t 1 & 2\\\\\n",
       "\t 3 & 4\\\\\n",
       "\\end{tabular}\n"
      ],
      "text/markdown": [
       "1. 1\n",
       "2. 3\n",
       "3. 2\n",
       "4. 4\n",
       "\n",
       "\n"
      ],
      "text/plain": [
       "     [,1] [,2]\n",
       "[1,]    1    2\n",
       "[2,]    3    4"
      ]
     },
     "metadata": {},
     "output_type": "display_data"
    },
    {
     "data": {
      "text/html": [
       "<table>\n",
       "<tbody>\n",
       "\t<tr><td>5</td><td>6</td></tr>\n",
       "\t<tr><td>7</td><td>8</td></tr>\n",
       "</tbody>\n",
       "</table>\n"
      ],
      "text/latex": [
       "\\begin{tabular}{ll}\n",
       "\t 5 & 6\\\\\n",
       "\t 7 & 8\\\\\n",
       "\\end{tabular}\n"
      ],
      "text/markdown": [
       "1. 5\n",
       "2. 7\n",
       "3. 6\n",
       "4. 8\n",
       "\n",
       "\n"
      ],
      "text/plain": [
       "     [,1] [,2]\n",
       "[1,]    5    6\n",
       "[2,]    7    8"
      ]
     },
     "metadata": {},
     "output_type": "display_data"
    },
    {
     "data": {
      "text/html": [
       "-2"
      ],
      "text/latex": [
       "-2"
      ],
      "text/markdown": [
       "-2"
      ],
      "text/plain": [
       "[1] -2"
      ]
     },
     "metadata": {},
     "output_type": "display_data"
    },
    {
     "data": {
      "text/html": [
       "-2"
      ],
      "text/latex": [
       "-2"
      ],
      "text/markdown": [
       "-2"
      ],
      "text/plain": [
       "[1] -2"
      ]
     },
     "metadata": {},
     "output_type": "display_data"
    }
   ],
   "source": [
    "## 1. Show A and B are invertible\n",
    "\n",
    "#Generate matrix A and B\n",
    "A <- matrix(c(1,3,2,4),2,2)\n",
    "B <- matrix(c(5,7,6,8),2,2)\n",
    "A\n",
    "B\n",
    "\n",
    "#Compute the determinants of A and B\n",
    "det(A)\n",
    "det(B)\n"
   ]
  },
  {
   "cell_type": "code",
   "execution_count": 10,
   "metadata": {
    "collapsed": false
   },
   "outputs": [
    {
     "data": {
      "text/html": [
       "<ol class=list-inline>\n",
       "\t<li>2</li>\n",
       "\t<li>2</li>\n",
       "</ol>\n"
      ],
      "text/latex": [
       "\\begin{enumerate*}\n",
       "\\item 2\n",
       "\\item 2\n",
       "\\end{enumerate*}\n"
      ],
      "text/markdown": [
       "1. 2\n",
       "2. 2\n",
       "\n",
       "\n"
      ],
      "text/plain": [
       "[1] 2 2"
      ]
     },
     "metadata": {},
     "output_type": "display_data"
    }
   ],
   "source": [
    "## 2. Calculate by hand the matrices A−1 and B−1.\n",
    "\n",
    "A <- matrix(c(1,3,2,4),2,2)\n",
    "B <- matrix(c(5,7,6,8),2,2)\n",
    "\n",
    "#Computing inverse for 2*2 matrix\n",
    "inv_det <- 1/det(A)\n",
    "\n",
    "inv_A <- matrix[]\n",
    "inv_A\n"
   ]
  },
  {
   "cell_type": "code",
   "execution_count": 13,
   "metadata": {
    "collapsed": false
   },
   "outputs": [
    {
     "data": {
      "text/html": [
       "<ol class=list-inline>\n",
       "\t<li>1</li>\n",
       "\t<li>2</li>\n",
       "\t<li>3</li>\n",
       "\t<li>4</li>\n",
       "</ol>\n"
      ],
      "text/latex": [
       "\\begin{enumerate*}\n",
       "\\item 1\n",
       "\\item 2\n",
       "\\item 3\n",
       "\\item 4\n",
       "\\end{enumerate*}\n"
      ],
      "text/markdown": [
       "1. 1\n",
       "2. 2\n",
       "3. 3\n",
       "4. 4\n",
       "\n",
       "\n"
      ],
      "text/plain": [
       "[1] 1 2 3 4"
      ]
     },
     "metadata": {},
     "output_type": "display_data"
    },
    {
     "data": {
      "text/html": [
       "<ol class=list-inline>\n",
       "\t<li>5</li>\n",
       "\t<li>6</li>\n",
       "\t<li>7</li>\n",
       "\t<li>8</li>\n",
       "</ol>\n"
      ],
      "text/latex": [
       "\\begin{enumerate*}\n",
       "\\item 5\n",
       "\\item 6\n",
       "\\item 7\n",
       "\\item 8\n",
       "\\end{enumerate*}\n"
      ],
      "text/markdown": [
       "1. 5\n",
       "2. 6\n",
       "3. 7\n",
       "4. 8\n",
       "\n",
       "\n"
      ],
      "text/plain": [
       "[1] 5 6 7 8"
      ]
     },
     "metadata": {},
     "output_type": "display_data"
    },
    {
     "data": {
      "text/html": [
       "<table>\n",
       "<tbody>\n",
       "\t<tr><td>1</td><td>2</td></tr>\n",
       "\t<tr><td>3</td><td>4</td></tr>\n",
       "</tbody>\n",
       "</table>\n"
      ],
      "text/latex": [
       "\\begin{tabular}{ll}\n",
       "\t 1 & 2\\\\\n",
       "\t 3 & 4\\\\\n",
       "\\end{tabular}\n"
      ],
      "text/markdown": [
       "1. 1\n",
       "2. 3\n",
       "3. 2\n",
       "4. 4\n",
       "\n",
       "\n"
      ],
      "text/plain": [
       "     [,1] [,2]\n",
       "[1,]    1    2\n",
       "[2,]    3    4"
      ]
     },
     "metadata": {},
     "output_type": "display_data"
    },
    {
     "data": {
      "text/html": [
       "<table>\n",
       "<tbody>\n",
       "\t<tr><td>5</td><td>6</td></tr>\n",
       "\t<tr><td>7</td><td>8</td></tr>\n",
       "</tbody>\n",
       "</table>\n"
      ],
      "text/latex": [
       "\\begin{tabular}{ll}\n",
       "\t 5 & 6\\\\\n",
       "\t 7 & 8\\\\\n",
       "\\end{tabular}\n"
      ],
      "text/markdown": [
       "1. 5\n",
       "2. 7\n",
       "3. 6\n",
       "4. 8\n",
       "\n",
       "\n"
      ],
      "text/plain": [
       "     [,1] [,2]\n",
       "[1,]    5    6\n",
       "[2,]    7    8"
      ]
     },
     "metadata": {},
     "output_type": "display_data"
    }
   ],
   "source": [
    "## 3. Use a for loop to create a vector containing the entries in A, \n",
    "#     then use the matrix function to convert your vector into the matrix A. Do the same for B.\n",
    "\n",
    "vect_A <- c(rep(0,4))\n",
    "vect_B <- c(rep(0,4))\n",
    "\n",
    "for(i in 1:4){\n",
    "    vect_A[i] <- i\n",
    "    vect_B[i] <- i+4\n",
    "}\n",
    "\n",
    "\n",
    "A <- matrix(vect_A, 2,2, byrow = TRUE)\n",
    "B <- matrix(vect_B, 2,2, byrow = TRUE)\n",
    "A\n",
    "B"
   ]
  },
  {
   "cell_type": "code",
   "execution_count": 23,
   "metadata": {
    "collapsed": false
   },
   "outputs": [
    {
     "data": {
      "text/html": [
       "<table>\n",
       "<tbody>\n",
       "\t<tr><td>1</td><td>2</td></tr>\n",
       "\t<tr><td>3</td><td>4</td></tr>\n",
       "</tbody>\n",
       "</table>\n"
      ],
      "text/latex": [
       "\\begin{tabular}{ll}\n",
       "\t 1 & 2\\\\\n",
       "\t 3 & 4\\\\\n",
       "\\end{tabular}\n"
      ],
      "text/markdown": [
       "1. 1\n",
       "2. 3\n",
       "3. 2\n",
       "4. 4\n",
       "\n",
       "\n"
      ],
      "text/plain": [
       "     [,1] [,2]\n",
       "[1,]    1    2\n",
       "[2,]    3    4"
      ]
     },
     "metadata": {},
     "output_type": "display_data"
    },
    {
     "data": {
      "text/html": [
       "<table>\n",
       "<tbody>\n",
       "\t<tr><td>5</td><td>6</td></tr>\n",
       "\t<tr><td>7</td><td>8</td></tr>\n",
       "</tbody>\n",
       "</table>\n"
      ],
      "text/latex": [
       "\\begin{tabular}{ll}\n",
       "\t 5 & 6\\\\\n",
       "\t 7 & 8\\\\\n",
       "\\end{tabular}\n"
      ],
      "text/markdown": [
       "1. 5\n",
       "2. 7\n",
       "3. 6\n",
       "4. 8\n",
       "\n",
       "\n"
      ],
      "text/plain": [
       "     [,1] [,2]\n",
       "[1,]    5    6\n",
       "[2,]    7    8"
      ]
     },
     "metadata": {},
     "output_type": "display_data"
    }
   ],
   "source": [
    "## 4. Create a 2×2 matrix of zeros, then using nested for loops, \n",
    "#     loop over individual entries of this matrix filling in the values for A. Do the same for B.\n",
    "\n",
    "vect_A <- c(1,2,3,4)\n",
    "vect_B <- c(5,6,7,8)\n",
    "t <- 1\n",
    "\n",
    "A <- matrix(c(rep(0,4)),2,2)\n",
    "B <- matrix(c(rep(0,4)),2,2)\n",
    "\n",
    "#Loop to fill matrix A\n",
    "for(i in 1:2){\n",
    "    for(j in 1:2){\n",
    "        A[i,j] <- vect_A[t]\n",
    "        t <- t+1\n",
    "    }\n",
    "}\n",
    "\n",
    "t <- 1\n",
    "#Loop to fill matrix B\n",
    "for(i in 1:2){\n",
    "    for(j in 1:2){\n",
    "        B[i,j] <- vect_B[t]\n",
    "        t <- t+1\n",
    "    }\n",
    "}\n",
    "\n",
    "A\n",
    "B"
   ]
  },
  {
   "cell_type": "code",
   "execution_count": null,
   "metadata": {
    "collapsed": true
   },
   "outputs": [],
   "source": [
    "## Sorry, I didn't have time to go further... Will finish over the holidays. \n",
    "\n",
    "#5. Create vectors a1, a2, b1, b2, corresponding to the columns of A and B. \n",
    "#   Use cbind to combine these columns into the matrics A and B.\n",
    "#6. Use the solve function to calculate the inverse of A and of B.\n",
    "#7. Use the answer to your above question to calculate A−1A and B−1B"
   ]
  }
 ],
 "metadata": {
  "celltoolbar": "Raw Cell Format",
  "kernelspec": {
   "display_name": "R",
   "language": "R",
   "name": "ir"
  },
  "language_info": {
   "codemirror_mode": "r",
   "file_extension": ".r",
   "mimetype": "text/x-r-source",
   "name": "R",
   "pygments_lexer": "r",
   "version": "3.3.1"
  }
 },
 "nbformat": 4,
 "nbformat_minor": 0
}
